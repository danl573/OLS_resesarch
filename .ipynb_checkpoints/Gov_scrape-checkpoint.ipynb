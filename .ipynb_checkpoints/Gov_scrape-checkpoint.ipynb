{
 "cells": [
  {
   "cell_type": "code",
   "execution_count": 6,
   "id": "19a7d599-90b2-478c-923c-5453ad91ef5a",
   "metadata": {},
   "outputs": [],
   "source": [
    "from selenium import webdriver\n",
    "from selenium.webdriver.common.by import By\n",
    "from selenium.webdriver.support.ui import WebDriverWait\n",
    "from selenium.webdriver.support import expected_conditions as EC\n",
    "from bs4 import BeautifulSoup"
   ]
  },
  {
   "cell_type": "code",
   "execution_count": 28,
   "id": "62d76d49-6853-4e4b-8101-412dbb4e7fce",
   "metadata": {},
   "outputs": [
    {
     "name": "stdout",
     "output_type": "stream",
     "text": [
      "<a class=\"readMore\" href=\"https://gov.texas.gov/news/post/governor-abbott-tea-release-teacher-vacancy-recommendations\">Governor Abbott, TEA Release Teacher Vacancy Recommendations</a>\n",
      "\n",
      "<a class=\"readMore\" href=\"https://gov.texas.gov/news/post/governor-abbott-txdot-announce-record-100-billion-10-year-transportation-plan\">Governor Abbott, TxDOT Announce Record $100 Billion 10-Year Transportation Plan</a>\n",
      "\n",
      "<a class=\"readMore\" href=\"https://gov.texas.gov/news/post/governor-abbott-announces-film-friendly-texas-designation-for-the-city-of-cameron\">Governor Abbott Announces Film Friendly Texas Designation For The City Of Cameron</a>\n",
      "\n",
      "<a class=\"readMore\" href=\"https://gov.texas.gov/news/post/governor-abbott-launches-statewide-street-takeover-task-force\">Governor Abbott Launches Statewide Street Takeover Task Force</a>\n",
      "\n",
      "<a class=\"readMore\" href=\"https://gov.texas.gov/news/post/governor-abbott-outlines-priorities-for-texas-thriving-economy\">Governor Abbott Outlines Priorities For Texas’ Thriving Economy</a>\n",
      "\n",
      "<a class=\"readMore\" href=\"https://gov.texas.gov/news/post/governor-abbott-texas-border-chairmen-discuss-border-security-strategies-in-weslaco\">Governor Abbott, Texas Border Chairmen Discuss Border Security Strategies In Weslaco</a>\n",
      "\n",
      "<a class=\"readMore\" href=\"https://gov.texas.gov/news/post/governor-abbott-requests-presidential-disaster-declaration-following-severe-winter-storm\">Governor Abbott Requests Presidential Disaster Declaration Following Severe Winter Storm</a>\n",
      "\n",
      "<a class=\"readMore\" href=\"https://gov.texas.gov/news/post/governor-abbott-reappoints-brito-long-to-board-of-pardons-and-paroles\">Governor Abbott Reappoints Brito, Long To Board Of Pardons And Paroles</a>\n",
      "\n",
      "<a class=\"readMore\" href=\"https://gov.texas.gov/news/post/governor-abbott-promotes-education-freedom-at-parent-empowerment-night-in-temple\">Governor Abbott Promotes Education Freedom At Parent Empowerment Night In Temple</a>\n",
      "\n"
     ]
    }
   ],
   "source": [
    "# Configure the Safari web driver\n",
    "driver = webdriver.Safari()\n",
    "\n",
    "# Navigate to the search results page\n",
    "url = 'https://gov.texas.gov/news/archive'\n",
    "driver.get(url)\n",
    "\n",
    "# Wait for the page to finish loading\n",
    "wait = WebDriverWait(driver, 20)\n",
    "\n",
    "# Extract the links from the page\n",
    "soup = BeautifulSoup(driver.page_source, 'html.parser')\n",
    "response = soup.find(class_=\"l-content columns small-12 medium-7 large-8\")\n",
    "links = response.find_all('a')\n",
    "\n",
    "# for link in links[1:10]:\n",
    "#     print(link)\n",
    "#     print()\n",
    "    \n",
    "driver.quit()    "
   ]
  },
  {
   "cell_type": "code",
   "execution_count": 29,
   "id": "e57f1797-2a6f-4665-87ea-9e6dbf9f2e78",
   "metadata": {},
   "outputs": [],
   "source": [
    "def get_text(text_list):\n",
    "    arr = []\n",
    "    for t in text_list:\n",
    "        arr.append(t.get_text())\n",
    "    return \" \".join(arr)"
   ]
  },
  {
   "cell_type": "code",
   "execution_count": 45,
   "id": "b49cb5c7-a692-4593-985d-b8687ab8634f",
   "metadata": {},
   "outputs": [],
   "source": [
    "driver = webdriver.Safari()\n",
    "\n",
    "ols_map = {}\n",
    "no_ols = {}\n",
    "for link in links:\n",
    "    href = link.get('href')\n",
    "    if href.startswith('http'):\n",
    "        # Navigate to the page\n",
    "        driver.get(href)\n",
    "\n",
    "        # Extract the relevant text\n",
    "        page_soup = BeautifulSoup(driver.page_source, 'html.parser')\n",
    "        texts = page_soup.find_all('p')\n",
    "        text = get_text(texts).lower()\n",
    "        \n",
    "        # Store the text in a map\n",
    "        if \"operation lone star\" in text:\n",
    "            ols_map[link.get_text().lower()] = text\n",
    "        else:\n",
    "            no_ols[link.get_text().lower()] = text\n",
    "\n",
    "driver.quit()"
   ]
  },
  {
   "cell_type": "code",
   "execution_count": 47,
   "id": "e459e5bf-62e6-45d8-8226-2d5941154584",
   "metadata": {},
   "outputs": [
    {
     "name": "stdout",
     "output_type": "stream",
     "text": [
      "62\n"
     ]
    }
   ],
   "source": [
    "# results_map[links[0].get_text()]\n",
    "print(len(no_ols))"
   ]
  },
  {
   "cell_type": "code",
   "execution_count": 48,
   "id": "281988a8-8632-493c-838d-ebb5a2535af1",
   "metadata": {},
   "outputs": [
    {
     "name": "stdout",
     "output_type": "stream",
     "text": [
      "February 24, 2023 | Austin, Texas \n",
      "      |\n",
      "        \n",
      "          Press Release\n",
      " Governor Greg Abbott today announced the release of the Final Report of the Teacher Vacancy Task Force that focuses on three primary areas of policy recommendations to address school district staffing challenges in Texas. In March 2022, Governor Abbott directed Texas Education Agency (TEA) Commissioner Mike Morath to immediately create a task force to help school districts address ongoing staffing retention and recruitment challenges. \"Educating Texas students is crucial for the continued success of our great state, and teachers play a pivotal role in that success,\" said Governor Abbott. \"I thank the teachers and school leaders on this task force for their work addressing full-time and substitute teacher vacancies in Texas schools. Their recommendations will help ensure that best practices and resources are available for teacher recruitment and retention. Working with the Texas legislature, we will develop and implement strategies that attract, retain, and support highly qualified educators to provide students across the state with even greater opportunities to learn and grow.\" “Teachers are the single most important in-school factor in the educational outcomes of students, and we must ensure they feel valued, supported, and able to remain in the classroom, if they so choose,” said Commissioner Morath. “The work of the task force has further illuminated critical issues facing Texas public schools and has provided concrete steps to move forward. I am grateful for their thoughtful and insightful approach to developing practical policy recommendations that help address these challenges.” Within three main policy categories—compensation, working conditions, and training and support—prioritized recommendations include: The 46-member Teacher Vacancy Task Force is comprised of teachers and school leaders representing all 20 Education Service Center regions and school systems of various sizes and demographic makeups. View the Task Force’s final report here. Read more on the Teacher Vacancy Task Force here. P.O. Box 12428\n",
      "Austin Texas 78711\n",
      "(512) 463-2000\n"
     ]
    }
   ],
   "source": [
    "print(results_map[\"Governor Abbott, TEA Release Teacher Vacancy Recommendations\"])"
   ]
  },
  {
   "cell_type": "markdown",
   "id": "898f304d-e308-4dcc-972e-9bca6526302e",
   "metadata": {},
   "source": [
    "## Scraping news for multiple dates"
   ]
  },
  {
   "cell_type": "markdown",
   "id": "b7d1f266-f8ec-4123-902b-14e890f0d75c",
   "metadata": {},
   "source": [
    "March 2021- March 2022 (to present?)"
   ]
  },
  {
   "cell_type": "code",
   "execution_count": 107,
   "id": "98569821-ff1c-45e2-bbc8-af112e0a85be",
   "metadata": {},
   "outputs": [
    {
     "name": "stdout",
     "output_type": "stream",
     "text": [
      "https://gov.texas.gov/news/archive/2022/01\n",
      "https://gov.texas.gov/news/archive/2022/02\n",
      "https://gov.texas.gov/news/archive/2022/03\n",
      "https://gov.texas.gov/news/archive/2022/04\n",
      "https://gov.texas.gov/news/archive/2022/05\n",
      "https://gov.texas.gov/news/archive/2022/06\n",
      "https://gov.texas.gov/news/archive/2022/07\n",
      "https://gov.texas.gov/news/archive/2022/08\n",
      "https://gov.texas.gov/news/archive/2022/09\n",
      "https://gov.texas.gov/news/archive/2022/10\n",
      "https://gov.texas.gov/news/archive/2022/11\n",
      "https://gov.texas.gov/news/archive/2022/12\n",
      "https://gov.texas.gov/news/archive/2023/01\n",
      "https://gov.texas.gov/news/archive/2023/02\n"
     ]
    }
   ],
   "source": [
    "import json\n",
    "\n",
    "years = ['2022', '2023'] #'2021',\n",
    "months = ['01', '02', '03', '04','05', '06','07', '08', '09', '10','11', '12']\n",
    "driver = webdriver.Safari()\n",
    "\n",
    "# results_map = {}\n",
    "# no_results_map = {}\n",
    "for year in years:\n",
    "    if year == '2023':\n",
    "        y_months = months[0:2]\n",
    "    else:\n",
    "        y_months = months\n",
    "        \n",
    "    year_map = {}\n",
    "    no_year_map = {}\n",
    "    for month in y_months:\n",
    "        month_map = {}\n",
    "        no_month_map = {}\n",
    "        \n",
    "        url = f'https://gov.texas.gov/news/archive/{year}/{month}'\n",
    "        driver.get(url)\n",
    "        print(url)\n",
    "        \n",
    "        # Wait for the page to finish loading\n",
    "        wait = WebDriverWait(driver, 100)\n",
    "        \n",
    "        # Extract the links from the page\n",
    "        soup = BeautifulSoup(driver.page_source, 'html.parser')\n",
    "        # print(soup.prettify())\n",
    "        nsoup = soup.find(class_=\"l-siteContent\")\n",
    "        response = nsoup.find(class_=\"l-content columns small-12 medium-7 large-8\")\n",
    "        links = response.find_all('a')\n",
    "\n",
    "        for link in links:\n",
    "            href = link.get('href')\n",
    "            if href.startswith('http'):\n",
    "                # Navigate to the page\n",
    "                driver.get(href)\n",
    "\n",
    "                # Extract the relevant text\n",
    "                page_soup = BeautifulSoup(driver.page_source, 'html.parser')\n",
    "                texts = page_soup.find_all('p')\n",
    "                text = get_text(texts).lower()\n",
    "\n",
    "                # Store the text in a map\n",
    "                if \"operation lone star\" in text:\n",
    "                    month_map[link.get_text().lower()] = text\n",
    "                else:\n",
    "                    no_month_map[link.get_text().lower()] = text\n",
    "        \n",
    "        with open(f\"archive/OLS/{year}/{month}.json\", \"w\") as outfile:\n",
    "            # write the dictionary to the file as JSON\n",
    "            json.dump(month_map, outfile)\n",
    "        \n",
    "        with open(f\"archive/noOLS/{year}/{month}.json\", \"w\") as outfile:\n",
    "            # write the dictionary to the file as JSON\n",
    "            json.dump(no_month_map, outfile)\n",
    "            \n",
    "        year_map[month] = month_map\n",
    "        no_year_map[month] = no_month_map\n",
    "    \n",
    "    results_map[year] = year_map\n",
    "    no_results_map[year] = no_year_map\n",
    "            \n",
    "driver.quit()    "
   ]
  },
  {
   "cell_type": "code",
   "execution_count": 135,
   "id": "44611e63-50ff-40d2-9f3c-76fab9d630e7",
   "metadata": {},
   "outputs": [
    {
     "name": "stdout",
     "output_type": "stream",
     "text": [
      "93 total articles containing \"Operation Lone Star\"\n",
      "1549 total articles not containing \"Operation Lone Star\"\n"
     ]
    }
   ],
   "source": [
    "total = 0\n",
    "for year in results_map:\n",
    "    for month in results_map[year]:\n",
    "        total = total + len(results_map[year][month])\n",
    "print(total, \"total articles containing \\\"Operation Lone Star\\\"\")\n",
    "\n",
    "for year in no_results_map:\n",
    "    for month in no_results_map[year]:\n",
    "        total = total + len(no_results_map[year][month])\n",
    "print(total, \"total articles not containing \\\"Operation Lone Star\\\"\")\n"
   ]
  },
  {
   "cell_type": "markdown",
   "id": "cc6decde-f859-4eea-815f-f9558c9fb99a",
   "metadata": {},
   "source": [
    "to read json files in archive:"
   ]
  },
  {
   "cell_type": "code",
   "execution_count": 253,
   "id": "2288215c-809b-475d-8d28-de4bb923d902",
   "metadata": {},
   "outputs": [],
   "source": [
    "years = ['2021', '2022', '2023']\n",
    "months = ['01', '02', '03', '04','05', '06','07', '08', '09', '10','11', '12']\n",
    "\n",
    "results_map2 = {}\n",
    "no_results_map2 = {}\n",
    "for year in years:\n",
    "    year_map2 = {}\n",
    "    no_year_map2 = {}\n",
    "    \n",
    "    if year == '2023':\n",
    "        months = months[0:2]\n",
    "    for month in months:\n",
    "        f = open(f'archive/OLS/{year}/{month}.json')\n",
    "        data = json.load(f)\n",
    "        year_map2[month] = data\n",
    "        \n",
    "        f = open(f'archive/noOLS/{year}/{month}.json')\n",
    "        data = json.load(f)\n",
    "        no_year_map2[month] = data\n",
    "        \n",
    "    results_map2[year] = year_map2\n",
    "    no_results_map2[year] = no_year_map2\n",
    "    \n"
   ]
  },
  {
   "cell_type": "code",
   "execution_count": 258,
   "id": "fb5c461e-bf8e-4b88-8423-5b86949f1c33",
   "metadata": {},
   "outputs": [
    {
     "name": "stdout",
     "output_type": "stream",
     "text": [
      "5\n"
     ]
    }
   ],
   "source": []
  },
  {
   "cell_type": "markdown",
   "id": "633f054e-6dc3-4f52-8d09-12d207d963df",
   "metadata": {},
   "source": [
    "## Word Frequency"
   ]
  },
  {
   "cell_type": "code",
   "execution_count": 133,
   "id": "bf0a571d-6384-4b24-93c2-2d8cfc397fce",
   "metadata": {},
   "outputs": [],
   "source": [
    "import nltk\n",
    "from nltk import FreqDist"
   ]
  },
  {
   "cell_type": "markdown",
   "id": "b278fb4c-5995-4464-bb60-a10362d0dd7a",
   "metadata": {},
   "source": [
    "lets work at word frequency per month"
   ]
  },
  {
   "cell_type": "code",
   "execution_count": 228,
   "id": "61422599-67c7-41be-8506-f2b7b2d13e99",
   "metadata": {},
   "outputs": [
    {
     "name": "stdout",
     "output_type": "stream",
     "text": [
      "(4, '05/2021', 'may 27, 2021 | austin, texas \\n      |\\n        \\n          press release\\n governor greg abbott today held a press conference in fort worth where he highlighted the state\\'s efforts to secure the border and stop the trafficking of fentanyl into texas. in response to an unprecedented surge in fentanyl coming across the border, the governor announced his intention to sign senate bill 768 (huffman/johnson) that will create a specific criminal offense, beginning with a third degree felony, for the manufacturing or delivery of fentanyl. the governor pointed to president biden\\'s open border policies as a cause behind the surge in fentanyl, and urged the president\\xa0to address this crisis and secure the border. governor abbott called upon parents to educate their children about the potentially deadly consequences of taking fentanyl, or unknowingly taking other drugs laced with fentanyl.\\xa0 \"lives are at stake as dangerous drugs like fentanyl pour into our communities at an astonishing rate, and we must act now to crack down on this proliferation of this deadly drug,\" said governor abbott. \"from tarrant county to lubbock county, fentanyl is wreaking havoc in our communities and it is essential for parents, family members, schools, and more to get fully engaged to prevent future fentanyl deaths.\\xa0president biden\\'s open border policies have led to a surge in this deadly drug coming into our communities. we must do more to combat this crisis, which is why i intend to sign legislation that will create a specific felony offense for the manufacturing or delivery of fentanyl.\" the governor was joined for the press conference by colonel steve mccraw, texas department of public safety director, tarrant county sheriff bill waybourn, and mansfield police chief tracy aaron. according to the tarrant county sheriff\\'s department, fentanyl seizures within the county increase from 59.2 grams in 2020 to 137 grams so far in 2021\\xa0— a 130% increase thus far this year. between january 2021 and april 2021, tarrant county experienced 60 suspected fatal overdoses of fentanyl\\xa0— which puts the county on a path to have a 50% increase in fentanyl deaths over the year. in the first four months of 2021, the texas department of public safety seized nearly 95 pounds, or 21.5 million lethal doses, of fentanyl in texas. compared to last year,\\xa0dps seized only 11 pounds over the first four months of 2020. on march 6th, governor abbott announced\\xa0operation lone star\\xa0to send law enforcement personnel and resources to high threat areas along the border. on march 17th, he\\xa0expanded the operation\\xa0to include anti-human trafficking efforts. the governor has also sent letters to president biden and vice president and border czar kamala harris demanding that the federal government take action to secure the border. p.o. box 12428\\naustin texas 78711\\n(512) 463-2000')\n"
     ]
    }
   ],
   "source": [
    "import numpy as np\n",
    "\n",
    "years = ['2021', '2022', '2023']\n",
    "months = ['01', '02', '03', '04','05', '06','07', '08', '09', '10','11', '12']\n",
    "\n",
    "all_results_dict = {}\n",
    "for year in years:\n",
    "    if year == '2023':\n",
    "            months = ['01', '02']\n",
    "    for month in months:\n",
    "        # print(results_map[year][month])\n",
    "        text_month = \" \".join(results_map[year][month].values())\n",
    "        all_results_dict[f'{month}/{year}'] = text_month\n",
    "        \n",
    "# print(len(all_results_dict))\n",
    "# print(all_results_dict.items())\n",
    "\n",
    "dtype = np.dtype([\n",
    "    ('id', int),\n",
    "    ('date', object),\n",
    "    ('text', object),\n",
    "])\n",
    "\n",
    "data_list = [(i, k, \"\".join(list(v))) for i, (k, v) in enumerate(all_results_dict.items())]\n",
    "\n",
    "all_results_np = np.array(data_list, dtype=dtype)\n",
    "\n",
    "print(all_results_np[4])"
   ]
  },
  {
   "cell_type": "code",
   "execution_count": 232,
   "id": "586a7aac-e748-4522-ae7c-1ed5c323659e",
   "metadata": {},
   "outputs": [
    {
     "data": {
      "text/plain": [
       "array(['01/2021', '02/2021', '03/2021', '04/2021', '05/2021', '06/2021',\n",
       "       '07/2021', '08/2021', '09/2021', '10/2021', '11/2021', '12/2021',\n",
       "       '01/2022', '02/2022', '03/2022', '04/2022', '05/2022', '06/2022',\n",
       "       '07/2022', '08/2022', '09/2022', '10/2022', '11/2022', '12/2022',\n",
       "       '01/2023', '02/2023'], dtype=object)"
      ]
     },
     "execution_count": 232,
     "metadata": {},
     "output_type": "execute_result"
    }
   ],
   "source": [
    "all_results_np['date']"
   ]
  },
  {
   "cell_type": "code",
   "execution_count": 246,
   "id": "746cdc37-2eb7-4a4b-ba4c-2dd2081fa493",
   "metadata": {},
   "outputs": [
    {
     "name": "stdout",
     "output_type": "stream",
     "text": [
      "01/2021 :\n",
      "\n",
      "02/2021 :\n",
      "\n",
      "03/2021 :\n",
      "border: 45\n",
      "texas: 32\n",
      "governor: 30\n",
      "administration: 20\n",
      "biden: 18\n",
      "abbott: 17\n",
      "human: 16\n",
      "trafficking: 16\n",
      "crisis: 12\n",
      "march: 10\n",
      "\n",
      "04/2021 :\n",
      "border: 17\n",
      "governor: 14\n",
      "texas: 11\n",
      "biden: 7\n",
      "crisis: 7\n",
      "abbott: 6\n",
      "president: 6\n",
      "operation: 6\n",
      "press: 5\n",
      "letter: 5\n",
      "\n",
      "05/2021 :\n",
      "fentanyl: 14\n",
      "governor: 8\n",
      "border: 8\n",
      "county: 7\n",
      "texas: 6\n",
      "2021: 5\n",
      "president: 5\n",
      "abbott: 4\n",
      "tarrant: 4\n",
      "press: 3\n",
      "\n",
      "06/2021 :\n",
      "border: 8\n",
      "texas: 4\n",
      "vice: 3\n",
      "president: 3\n",
      "austin: 2\n",
      "czar: 2\n",
      "harris: 2\n",
      "southern: 2\n",
      "overrun: 2\n",
      "open: 2\n",
      "\n",
      "07/2021 :\n",
      "\n",
      "08/2021 :\n",
      "border: 44\n",
      "texas: 27\n",
      "county: 18\n",
      "governor: 18\n",
      "sheriffs: 13\n",
      "funding: 12\n",
      "secure: 11\n",
      "since: 10\n",
      "2021: 9\n",
      "state: 9\n",
      "\n",
      "09/2021 :\n",
      "border: 55\n",
      "texas: 51\n",
      "governor: 41\n",
      "state: 29\n",
      "federal: 21\n",
      "abbott: 20\n",
      "secure: 19\n",
      "funding: 16\n",
      "local: 14\n",
      "security: 13\n",
      "\n",
      "10/2021 :\n",
      "border: 35\n",
      "governor: 32\n",
      "texas: 29\n",
      "abbott: 18\n",
      "county: 13\n",
      "general: 9\n",
      "secure: 9\n",
      "adjutant: 8\n",
      "operation: 8\n",
      "crisis: 8\n",
      "\n",
      "11/2021 :\n",
      "texas: 12\n",
      "mexican: 9\n",
      "governor: 7\n",
      "service: 6\n",
      "border: 6\n",
      "members: 5\n",
      "austin: 4\n",
      "president: 4\n",
      "government: 4\n",
      "november: 3\n",
      "\n",
      "12/2021 :\n",
      "governor: 11\n",
      "border: 11\n",
      "texas: 9\n",
      "abbott: 7\n",
      "additional: 5\n",
      "operation: 5\n",
      "austin: 4\n",
      "lone: 4\n",
      "star: 4\n",
      "federal: 4\n",
      "\n",
      "01/2022 :\n",
      "\n",
      "02/2022 :\n",
      "texas: 35\n",
      "border: 25\n",
      "governor: 22\n",
      "county: 22\n",
      "sheriff: 19\n",
      "office: 17\n",
      "fentanyl: 16\n",
      "abbott: 14\n",
      "montgomery: 14\n",
      "law: 10\n",
      "\n",
      "03/2022 :\n",
      "texas: 97\n",
      "border: 64\n",
      "governor: 43\n",
      "dps: 42\n",
      "national: 35\n",
      "guard: 31\n",
      "abbott: 30\n",
      "operation: 27\n",
      "lone: 24\n",
      "star: 24\n",
      "\n",
      "04/2022 :\n",
      "texas: 134\n",
      "border: 106\n",
      "dps: 66\n",
      "governor: 57\n",
      "abbott: 42\n",
      "operation: 40\n",
      "national: 39\n",
      "guard: 39\n",
      "lone: 37\n",
      "star: 37\n",
      "\n",
      "05/2022 :\n",
      "texas: 103\n",
      "border: 78\n",
      "dps: 38\n",
      "governor: 35\n",
      "abbott: 31\n",
      "illegal: 30\n",
      "national: 28\n",
      "biden: 27\n",
      "guard: 25\n",
      "secure: 23\n",
      "\n",
      "06/2022 :\n",
      "border: 59\n",
      "texas: 52\n",
      "dps: 32\n",
      "illegal: 31\n",
      "migrants: 28\n",
      "governor: 23\n",
      "national: 23\n",
      "guard: 23\n",
      "state: 18\n",
      "abbott: 15\n",
      "\n",
      "07/2022 :\n",
      "border: 128\n",
      "texas: 116\n",
      "illegal: 75\n",
      "dps: 71\n",
      "governor: 53\n",
      "immigrants: 47\n",
      "abbott: 46\n",
      "national: 40\n",
      "guard: 38\n",
      "biden: 33\n",
      "\n",
      "08/2022 :\n",
      "border: 94\n",
      "texas: 88\n",
      "governor: 66\n",
      "abbott: 55\n",
      "dps: 44\n",
      "illegal: 44\n",
      "biden: 33\n",
      "city: 32\n",
      "immigrants: 31\n",
      "president: 29\n",
      "\n",
      "09/2022 :\n",
      "border: 113\n",
      "texas: 90\n",
      "illegal: 85\n",
      "dps: 82\n",
      "immigrants: 71\n",
      "governor: 35\n",
      "national: 34\n",
      "smuggling: 34\n",
      "abbott: 32\n",
      "biden: 32\n",
      "\n",
      "10/2022 :\n",
      "border: 113\n",
      "dps: 76\n",
      "texas: 75\n",
      "illegal: 68\n",
      "immigrants: 53\n",
      "governor: 37\n",
      "criminal: 33\n",
      "abbott: 31\n",
      "fentanyl: 31\n",
      "national: 29\n",
      "\n",
      "11/2022 :\n",
      "texas: 72\n",
      "border: 72\n",
      "dps: 61\n",
      "illegal: 56\n",
      "immigrants: 48\n",
      "governor: 34\n",
      "abbott: 23\n",
      "national: 23\n",
      "operation: 22\n",
      "lone: 22\n",
      "\n",
      "12/2022 :\n",
      "border: 138\n",
      "texas: 117\n",
      "dps: 87\n",
      "illegal: 87\n",
      "immigrants: 61\n",
      "governor: 59\n",
      "abbott: 46\n",
      "operation: 40\n",
      "lone: 40\n",
      "star: 40\n",
      "\n",
      "01/2023 :\n",
      "border: 90\n",
      "illegal: 67\n",
      "texas: 57\n",
      "dps: 53\n",
      "biden: 41\n",
      "immigrants: 38\n",
      "president: 35\n",
      "governor: 33\n",
      "abbott: 28\n",
      "watch: 25\n",
      "\n",
      "02/2023 :\n",
      "border: 99\n",
      "texas: 74\n",
      "dps: 50\n",
      "illegal: 44\n",
      "governor: 43\n",
      "abbott: 33\n",
      "immigrants: 32\n",
      "biden: 27\n",
      "operation: 25\n",
      "fentanyl: 24\n",
      "\n"
     ]
    }
   ],
   "source": [
    "from nltk.tokenize import RegexpTokenizer\n",
    "from nltk.corpus import stopwords\n",
    "stop_words = set(stopwords.words('english'))\n",
    "tokenizer = RegexpTokenizer(r'\\w+')\n",
    "\n",
    "freqs = {}\n",
    "\n",
    "for _,d,t in all_results_np:\n",
    "    words = tokenizer.tokenize(t)\n",
    "    filtered_tokens = [token for token in words if token not in stop_words]\n",
    "    fdist = FreqDist(filtered_tokens)\n",
    "    freqs[d] = fdist\n",
    "    \n",
    "for k, v in freqs.items():\n",
    "    print(k, ':')\n",
    "    for word, frequency in v.most_common(10):\n",
    "        print(f\"{word}: {frequency}\")\n",
    "    print()\n",
    "        \n",
    "        "
   ]
  },
  {
   "cell_type": "markdown",
   "id": "21cf1919-fff6-4830-90cf-8480c908fe54",
   "metadata": {},
   "source": [
    "per year:"
   ]
  },
  {
   "cell_type": "code",
   "execution_count": 283,
   "id": "ba51b9b0-8519-4bdb-95b9-d9e9f56b70e1",
   "metadata": {},
   "outputs": [
    {
     "name": "stdout",
     "output_type": "stream",
     "text": [
      "2021 :\n",
      "border: 229\n",
      "texas: 181\n",
      "governor: 162\n",
      "abbott: 85\n",
      "secure: 57\n",
      "state: 53\n",
      "biden: 50\n",
      "operation: 49\n",
      "crisis: 48\n",
      "austin: 47\n",
      "\n",
      "2022 :\n",
      "border: 990\n",
      "texas: 979\n",
      "dps: 599\n",
      "illegal: 514\n",
      "governor: 464\n",
      "abbott: 365\n",
      "immigrants: 340\n",
      "national: 316\n",
      "guard: 285\n",
      "operation: 272\n",
      "\n",
      "2023 :\n",
      "border: 189\n",
      "texas: 131\n",
      "illegal: 111\n",
      "dps: 103\n",
      "governor: 76\n",
      "immigrants: 70\n",
      "biden: 68\n",
      "abbott: 61\n",
      "president: 54\n",
      "watch: 45\n",
      "\n"
     ]
    }
   ],
   "source": [
    "year_freqs = {}\n",
    "\n",
    "temp = []\n",
    "for _,d,t in all_results_np:\n",
    "    temp.append(t)\n",
    "    \n",
    "year_text = [\" \".join(temp[0:12]), \" \".join(temp[12:24]), \" \".join(temp[24:])]\n",
    "\n",
    "\n",
    "for i, t in enumerate(year_text):\n",
    "    words = tokenizer.tokenize(t)\n",
    "    filtered_tokens = [token for token in words if token not in stop_words]\n",
    "    fdist = FreqDist(filtered_tokens)\n",
    "    year_freqs[years[i]] = fdist\n",
    "    \n",
    "for k, v in year_freqs.items():\n",
    "    print(k, ':')\n",
    "    for word, frequency in v.most_common(10):\n",
    "        print(f\"{word}: {frequency}\")\n",
    "    print()\n",
    "        \n",
    "        "
   ]
  },
  {
   "cell_type": "code",
   "execution_count": 293,
   "id": "222054ff-315b-4d92-a502-0f8e863a9743",
   "metadata": {},
   "outputs": [
    {
     "data": {
      "text/plain": [
       "<AxesSubplot: >"
      ]
     },
     "execution_count": 293,
     "metadata": {},
     "output_type": "execute_result"
    },
    {
     "data": {
      "image/png": "[encoded data removed]",
      "text/plain": [
       "<Figure size 640x480 with 1 Axes>"
      ]
     },
     "metadata": {},
     "output_type": "display_data"
    }
   ],
   "source": [
    "top_words_2021 = year_freqs['2021'].most_common(20)\n",
    "top_words_2022 = year_freqs['2022'].most_common(20)\n",
    "top_words_2023 = year_freqs['2023'].most_common(20)\n",
    "\n",
    "\n",
    "# Create a bar plot of the most common words\n",
    "sns.set(style=\"darkgrid\")\n",
    "sns.barplot(x=[w[1] for w in top_words], y=[w[0] for w in top_words_2021])"
   ]
  },
  {
   "cell_type": "code",
   "execution_count": 294,
   "id": "f136e0c2-0de0-4598-81cd-696ed24d9259",
   "metadata": {},
   "outputs": [
    {
     "data": {
      "text/plain": [
       "<AxesSubplot: >"
      ]
     },
     "execution_count": 294,
     "metadata": {},
     "output_type": "execute_result"
    },
    {
     "data": {
      "image/png": "[encoded data removed]",
      "text/plain": [
       "<Figure size 640x480 with 1 Axes>"
      ]
     },
     "metadata": {},
     "output_type": "display_data"
    }
   ],
   "source": [
    "sns.barplot(x=[w[1] for w in top_words], y=[w[0] for w in top_words_2022])"
   ]
  },
  {
   "cell_type": "code",
   "execution_count": 295,
   "id": "660a2a52-3c3a-4e11-946f-70491accaf49",
   "metadata": {},
   "outputs": [
    {
     "data": {
      "text/plain": [
       "<AxesSubplot: >"
      ]
     },
     "execution_count": 295,
     "metadata": {},
     "output_type": "execute_result"
    },
    {
     "data": {
      "image/png": "[encoded data removed]",
      "text/plain": [
       "<Figure size 640x480 with 1 Axes>"
      ]
     },
     "metadata": {},
     "output_type": "display_data"
    }
   ],
   "source": [
    "sns.barplot(x=[w[1] for w in top_words], y=[w[0] for w in top_words_2023])"
   ]
  },
  {
   "cell_type": "markdown",
   "id": "749b169e-a291-4c10-ad3c-5fb84caa45d2",
   "metadata": {},
   "source": [
    "Overall:"
   ]
  },
  {
   "cell_type": "code",
   "execution_count": null,
   "id": "277c2ae0-b573-4d5d-9036-d5a291e95264",
   "metadata": {},
   "outputs": [],
   "source": []
  },
  {
   "cell_type": "code",
   "execution_count": 267,
   "id": "d9271a4e-5d0f-4f15-a347-d644a3a500b9",
   "metadata": {},
   "outputs": [
    {
     "name": "stdout",
     "output_type": "stream",
     "text": [
      "border: 1408\n",
      "texas: 1291\n",
      "dps: 729\n",
      "governor: 702\n",
      "illegal: 643\n",
      "abbott: 511\n",
      "immigrants: 412\n",
      "national: 383\n",
      "biden: 373\n",
      "operation: 364\n"
     ]
    }
   ],
   "source": [
    "\n",
    "all_text = \" \".join(all_results_np['text'])\n",
    "                    \n",
    "words = tokenizer.tokenize(all_text)\n",
    "filtered_tokens = [token for token in words if token not in stop_words]\n",
    "fdist = FreqDist(filtered_tokens)\n",
    "\n",
    "\n",
    "for word, frequency in fdist.most_common(10):\n",
    "    print(f\"{word}: {frequency}\")\n",
    "        "
   ]
  },
  {
   "cell_type": "code",
   "execution_count": 269,
   "id": "edda518a-cd1d-4451-9478-4acd5d4f37c2",
   "metadata": {},
   "outputs": [],
   "source": [
    "import seaborn as sns\n",
    "import matplotlib.pyplot as plt"
   ]
  },
  {
   "cell_type": "code",
   "execution_count": 272,
   "id": "888692cc-0b4f-4e9c-8e08-36070396debb",
   "metadata": {},
   "outputs": [
    {
     "data": {
      "text/plain": [
       "<AxesSubplot: >"
      ]
     },
     "execution_count": 272,
     "metadata": {},
     "output_type": "execute_result"
    },
    {
     "data": {
      "image/png": "[encoded data removed]",
      "text/plain": [
       "<Figure size 640x480 with 1 Axes>"
      ]
     },
     "metadata": {},
     "output_type": "display_data"
    }
   ],
   "source": [
    "top_words = fdist.most_common(20)\n",
    "\n",
    "# Create a bar plot of the most common words\n",
    "sns.set(style=\"darkgrid\")\n",
    "sns.barplot(x=[w[1] for w in top_words], y=[w[0] for w in top_words])"
   ]
  }
 ],
 "metadata": {
  "kernelspec": {
   "display_name": "Python 3 (ipykernel)",
   "language": "python",
   "name": "python3"
  },
  "language_info": {
   "codemirror_mode": {
    "name": "ipython",
    "version": 3
   },
   "file_extension": ".py",
   "mimetype": "text/x-python",
   "name": "python",
   "nbconvert_exporter": "python",
   "pygments_lexer": "ipython3",
   "version": "3.10.9"
  }
 },
 "nbformat": 4,
 "nbformat_minor": 5
}
