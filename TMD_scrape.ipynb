{
 "cells": [
  {
   "cell_type": "code",
   "execution_count": 2,
   "id": "8d671775-83c5-42b5-9f89-0415bcd8b0f0",
   "metadata": {},
   "outputs": [],
   "source": [
    "from selenium import webdriver\n",
    "from selenium.webdriver.common.by import By\n",
    "from selenium.webdriver.support.ui import WebDriverWait\n",
    "from selenium.webdriver.support import expected_conditions as EC\n",
    "from bs4 import BeautifulSoup"
   ]
  },
  {
   "cell_type": "code",
   "execution_count": 31,
   "id": "521a1403-5799-42f7-9311-b5fc02a152d8",
   "metadata": {},
   "outputs": [],
   "source": [
    "def get_text(text_list):\n",
    "    arr = []\n",
    "    for t in text_list:\n",
    "        arr.append(t.get_text())\n",
    "    return \" \".join(arr)"
   ]
  },
  {
   "cell_type": "code",
   "execution_count": 47,
   "id": "3815bc77-2179-46bd-b6e5-ceaf60c4491f",
   "metadata": {},
   "outputs": [
    {
     "name": "stdout",
     "output_type": "stream",
     "text": [
      "2023\n",
      "2022\n",
      "2021\n"
     ]
    }
   ],
   "source": [
    "import json\n",
    "\n",
    "years = ['2021', '2022', '2023']\n",
    "driver = webdriver.Safari()\n",
    "\n",
    "tmd_results_map = {}\n",
    "tmd_no_results_map = {}\n",
    "\n",
    "year_map = {}\n",
    "no_year_map = {}\n",
    "links = []\n",
    "\n",
    "url = 'https://tmd.texas.gov/press-releases'\n",
    "driver.get(url)\n",
    "wait = WebDriverWait(driver, 100)\n",
    "\n",
    "soup = BeautifulSoup(driver.page_source, 'html.parser')\n",
    "nsoup = soup.find(class_=\"col-md-12 nomargins center-pane clearfix\")\n",
    "art_years = nsoup.find_all('div', class_='outerwrap')\n",
    "art_years = art_years[0:12]\n",
    "\n",
    "for art_year in art_years:\n",
    "    year_map = {}\n",
    "    no_year_map = {}\n",
    "    links = []\n",
    "    \n",
    "    year = art_year.find('h2').text\n",
    "    if year in years:\n",
    "        print(year)\n",
    "        links = art_year.find_all('a')\n",
    "        \n",
    "        for link in links:\n",
    "            href = link.get('href')\n",
    "            if href.startswith('https:/'):\n",
    "                # Navigate to the page\n",
    "                driver.get(href)\n",
    "\n",
    "                # Extract the relevant text\n",
    "                page_soup = BeautifulSoup(driver.page_source, 'html.parser')\n",
    "                texts = page_soup.find_all('p')\n",
    "                text = get_text(texts).lower()\n",
    "\n",
    "                # Store the text in a map\n",
    "                if \"operation lone star\" in text:\n",
    "                    # print(href)\n",
    "                    year_map[link.get_text().lower()] = text\n",
    "                else:\n",
    "                    # print(\"none\")\n",
    "                    no_year_map[link.get_text().lower()] = text\n",
    "    \n",
    "    \n",
    "\n",
    "\n",
    "        with open(f\"archive/TMD/OLS/{year}.json\", \"w\") as outfile:\n",
    "            # write the dictionary to the file as JSON\n",
    "            json.dump(year_map, outfile)\n",
    "\n",
    "        with open(f\"archive/TMD/noOLS/{year}.json\", \"w\") as outfile:\n",
    "            # write the dictionary to the file as JSON\n",
    "            json.dump(no_year_map, outfile)\n",
    "    \n",
    "    tmd_results_map[year] = year_map\n",
    "    tmd_no_results_map[year] = no_year_map\n",
    "            \n",
    "driver.quit()  "
   ]
  },
  {
   "cell_type": "markdown",
   "id": "34d20500-0a51-4315-971c-3a448c3fbba7",
   "metadata": {},
   "source": [
    "Now lets look at how many articles we obtained from the TMD website"
   ]
  },
  {
   "cell_type": "code",
   "execution_count": 51,
   "id": "beab39f6-76aa-44c7-81b9-8571fd401903",
   "metadata": {},
   "outputs": [
    {
     "name": "stdout",
     "output_type": "stream",
     "text": [
      "11 total articles containing \"Operation Lone Star\"\n",
      "21 total articles not containing \"Operation Lone Star\"\n"
     ]
    }
   ],
   "source": [
    "total = 0\n",
    "for year in tmd_results_map:\n",
    "    total = total + len(tmd_results_map[year])\n",
    "print(total, \"total articles containing \\\"Operation Lone Star\\\"\")\n",
    "\n",
    "total = 0\n",
    "for year in tmd_no_results_map:\n",
    "    total = total + len(tmd_no_results_map[year])\n",
    "print(total, \"total articles not containing \\\"Operation Lone Star\\\"\")"
   ]
  },
  {
   "cell_type": "code",
   "execution_count": null,
   "id": "42948ac7-3310-4456-9006-efe4083adcf3",
   "metadata": {},
   "outputs": [],
   "source": [
    "years = ['2021', '2022', '2023']\n",
    "\n",
    "tmd_results_map = {}\n",
    "tmk_no_results_map = {}\n",
    "for year in years:\n",
    "    year_map = {}\n",
    "    no_year_map = {}\n",
    "    \n",
    "    f = open(f'archive/TMD/OLS/{year}.json')\n",
    "    data = json.load(f)\n",
    "    year_map[year] = data\n",
    "\n",
    "    f = open(f'archive/TMD/noOLS/{year}.json')\n",
    "    data = json.load(f)\n",
    "    no_year_map[month] = data\n",
    "        \n",
    "    tmd_results_map[year] = year_map\n",
    "    tmd_no_results_map[year] = no_year_map\n",
    "    "
   ]
  }
 ],
 "metadata": {
  "kernelspec": {
   "display_name": "Python 3 (ipykernel)",
   "language": "python",
   "name": "python3"
  },
  "language_info": {
   "codemirror_mode": {
    "name": "ipython",
    "version": 3
   },
   "file_extension": ".py",
   "mimetype": "text/x-python",
   "name": "python",
   "nbconvert_exporter": "python",
   "pygments_lexer": "ipython3",
   "version": "3.10.9"
  }
 },
 "nbformat": 4,
 "nbformat_minor": 5
}
